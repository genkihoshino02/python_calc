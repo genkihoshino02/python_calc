{
  "nbformat": 4,
  "nbformat_minor": 0,
  "metadata": {
    "colab": {
      "name": "bisec.ipynb",
      "provenance": [],
      "authorship_tag": "ABX9TyPIkveiwQFjCooVPmz7mlL5",
      "include_colab_link": true
    },
    "kernelspec": {
      "name": "python3",
      "display_name": "Python 3"
    }
  },
  "cells": [
    {
      "cell_type": "markdown",
      "metadata": {
        "id": "view-in-github",
        "colab_type": "text"
      },
      "source": [
        "<a href=\"https://colab.research.google.com/github/genkihoshino02/python_calc/blob/main/bisec.ipynb\" target=\"_parent\"><img src=\"https://colab.research.google.com/assets/colab-badge.svg\" alt=\"Open In Colab\"/></a>"
      ]
    },
    {
      "cell_type": "code",
      "metadata": {
        "colab": {
          "base_uri": "https://localhost:8080/"
        },
        "id": "5zGnRNl9tonW",
        "outputId": "ebc3c314-b666-424b-9d75-8d92b27e2b80"
      },
      "source": [
        "a=2\n",
        "LIMIT=1e-20\n",
        "\n",
        "#function f(x)\n",
        "def f(x):\n",
        "  return x*x-a\n",
        "\n",
        "#initial setting\n",
        "xp=float(input(\"enter the value of xp\"))\n",
        "xn=float(input(\"enter the value of xn\"))\n",
        "\n",
        "#while loop\n",
        "while (xp-xn)*(xp-xn) >LIMIT:\n",
        "  xmid=(xp+xn)/2\n",
        "  if f(xmid)>0:\n",
        "    xp=xmid\n",
        "  else:\n",
        "    xp=xmid\n",
        "  print(\"{:.15f} {:.15f}\".format(xp,xn))"
      ],
      "execution_count": 1,
      "outputs": [
        {
          "output_type": "stream",
          "text": [
            "enter the value of xp1.5\n",
            "enter the value of xn1.3\n",
            "1.400000000000000 1.300000000000000\n",
            "1.350000000000000 1.300000000000000\n",
            "1.325000000000000 1.300000000000000\n",
            "1.312500000000000 1.300000000000000\n",
            "1.306250000000000 1.300000000000000\n",
            "1.303125000000000 1.300000000000000\n",
            "1.301562500000000 1.300000000000000\n",
            "1.300781250000000 1.300000000000000\n",
            "1.300390625000000 1.300000000000000\n",
            "1.300195312500000 1.300000000000000\n",
            "1.300097656250000 1.300000000000000\n",
            "1.300048828125000 1.300000000000000\n",
            "1.300024414062500 1.300000000000000\n",
            "1.300012207031250 1.300000000000000\n",
            "1.300006103515625 1.300000000000000\n",
            "1.300003051757812 1.300000000000000\n",
            "1.300001525878906 1.300000000000000\n",
            "1.300000762939453 1.300000000000000\n",
            "1.300000381469727 1.300000000000000\n",
            "1.300000190734863 1.300000000000000\n",
            "1.300000095367432 1.300000000000000\n",
            "1.300000047683716 1.300000000000000\n",
            "1.300000023841858 1.300000000000000\n",
            "1.300000011920929 1.300000000000000\n",
            "1.300000005960464 1.300000000000000\n",
            "1.300000002980232 1.300000000000000\n",
            "1.300000001490116 1.300000000000000\n",
            "1.300000000745058 1.300000000000000\n",
            "1.300000000372529 1.300000000000000\n",
            "1.300000000186265 1.300000000000000\n",
            "1.300000000093132 1.300000000000000\n"
          ],
          "name": "stdout"
        }
      ]
    }
  ]
}